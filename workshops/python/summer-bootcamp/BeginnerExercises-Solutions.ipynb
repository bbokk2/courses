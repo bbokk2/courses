{
 "cells": [
  {
   "cell_type": "markdown",
   "metadata": {},
   "source": [
    "# Python: Intro\n",
    "## Beginner Exercises"
   ]
  },
  {
   "cell_type": "markdown",
   "metadata": {},
   "source": [
    "### Beginner Exercise 1\n",
    "(Lists, Data Types)\n",
    "\n",
    "Below are 10 variables with different data types. Create a list for each data type, containing all the variables of that data type. (For example, create a list called `my_ints` containing all of the integer variables below. Repeat for the other data types: floats, strings, booleans.) If you wish to double-check a variable's type, feel free to use `type()`."
   ]
  },
  {
   "cell_type": "code",
   "execution_count": null,
   "metadata": {},
   "outputs": [],
   "source": [
    "a = \"squirrel\"\n",
    "b = 10\n",
    "c = 3.14159\n",
    "d = 12345\n",
    "e = 6.022e23\n",
    "f = True\n",
    "g = \"chicken\"\n",
    "h = False\n",
    "i = 42\n",
    "j = 8.0\n",
    "\n",
    "# Place your lists here:\n",
    "my_ints    = [b, d]\n",
    "my_floats  = [c, e, j]\n",
    "my_strings = [a, g]\n",
    "my_bools   = [f, h]"
   ]
  },
  {
   "cell_type": "markdown",
   "metadata": {},
   "source": [
    "### Beginner Exercise 2\n",
    "\n",
    "(Math Operators)\n",
    "\n",
    "Perform the following math operations. Replace `None` in the code cell below with the appropriate equations.\n",
    "<img src=\"images/OrderOfOps.png\" style=\"width:50%;height:50%\"></img>"
   ]
  },
  {
   "cell_type": "code",
   "execution_count": null,
   "metadata": {},
   "outputs": [],
   "source": [
    "# Equation 1\n",
    "eq1 = 3 + 5**2 - 2\n",
    "print(eq1)\n",
    "\n",
    "# Equation 2\n",
    "eq2 = (-3 + 2) + 8/2 * 4\n",
    "print(eq2)\n",
    "\n",
    "# Equation 3\n",
    "eq3 = (2 - 5) + 4**2 - 10/5\n",
    "print(eq3)\n",
    "\n",
    "# Equation 4\n",
    "eq4 = 3 + 5 - (-1)*7\n",
    "print(eq4)\n",
    "\n",
    "# Equation 5\n",
    "eq5 = (4 - 1)**2 + 15/3 - 1\n",
    "print(eq5)\n",
    "\n",
    "# Equation 6\n",
    "eq6 = (5+7)/4 - 1 + 3**2 * 2\n",
    "print(eq6)\n",
    "\n",
    "# Equation 7\n",
    "eq7 = 10 - (3+4/2)**2 + 15\n",
    "print(eq7)\n",
    "\n",
    "# Equation 8\n",
    "eq8 = (5*2)/(4-3) - 8 + (-1)**2 - 4\n",
    "print(eq8)"
   ]
  },
  {
   "cell_type": "markdown",
   "metadata": {},
   "source": [
    "### Beginner Exercise 3\n",
    "\n",
    "(While Loops)\n",
    "\n",
    "Create a while loop that subtracts 1 from `x` until `x` has a value of 2. At the end of the loop, print the value of `x`."
   ]
  },
  {
   "cell_type": "code",
   "execution_count": null,
   "metadata": {},
   "outputs": [],
   "source": [
    "x = 10\n",
    "print(\"x = \" + str(x))\n",
    "\n",
    "# Write your while loop below\n",
    "while x > 2:\n",
    "    x = x - 1\n",
    "    \n",
    "print(\"x = \" + str(x))"
   ]
  },
  {
   "cell_type": "markdown",
   "metadata": {},
   "source": [
    "### Beginner Exercise 4\n",
    "\n",
    "(While Loops)\n",
    "\n",
    "Create a while loop that multiplies `y` by 2 until `y` is greater than 100. Print the value of `y` for each iteration of the while loop."
   ]
  },
  {
   "cell_type": "code",
   "execution_count": null,
   "metadata": {},
   "outputs": [],
   "source": [
    "y = 2\n",
    "print(\"y = \" + str(y))\n",
    "\n",
    "# Write your while loop below\n",
    "while y < 100:\n",
    "    y = y*2\n",
    "    print(\"y = \" + str(y))"
   ]
  },
  {
   "cell_type": "markdown",
   "metadata": {},
   "source": [
    "### Beginner Exercise 5\n",
    "\n",
    "(For Loops)\n",
    "\n",
    "Iteratively print the square for numbers 0 through 10. You can use multiplication or exponents."
   ]
  },
  {
   "cell_type": "code",
   "execution_count": null,
   "metadata": {},
   "outputs": [],
   "source": [
    "# Put your for loop here\n",
    "for x in range(11):\n",
    "    print(x**2)"
   ]
  },
  {
   "cell_type": "markdown",
   "metadata": {},
   "source": [
    "### Beginner Exercise 6\n",
    "\n",
    "(For Loops, If Statements)\n",
    "\n",
    "For each number 0 through 100, print the number ONLY if it is divisible by 7 (Use the modulus operator %)."
   ]
  },
  {
   "cell_type": "code",
   "execution_count": null,
   "metadata": {},
   "outputs": [],
   "source": [
    "# Put your for loop here\n",
    "for x in range(101):\n",
    "    if x%7==0:\n",
    "        print(x)"
   ]
  },
  {
   "cell_type": "markdown",
   "metadata": {},
   "source": [
    "### Beginner Exercise 7\n",
    "\n",
    "(For Loops, If Statements, Dictionaries)\n",
    "\n",
    "Below is a dictionary of available treats at the pet store. The veterinarian says your cat needs to go on a diet and that you should only feed it treats that have 30 or fewer calories per serving. Create a shopping list containing all the possible treats that you can feed to your cat. Also create a list of treats to avoid (treats containing greater than 30 calories). Print both lists."
   ]
  },
  {
   "cell_type": "code",
   "execution_count": null,
   "metadata": {},
   "outputs": [],
   "source": [
    "# This dictionary contains the available treats and their calorie count. Do not edit this!\n",
    "all_treats = {\"salmon\": 50, \"catnip\": 10, \"tuna\": 30, \"cheese\": 45, \"chicken\": 25, \"turkey\": 28, \"shrimp\": 20, \"lobster\": 70, \"grass\": 5, \"greenies\": 40, \"cookies\": 35, \"whitefish\": 20, \"duck\": 30}\n",
    "\n",
    "# Below is your empty shopping list\n",
    "shopping_list = []\n",
    "\n",
    "# Here is your currently empty list of treats to avoid.\n",
    "avoid_these = []\n",
    "\n",
    "# Using a for loop and if statement, add treats to the appropriate lists\n",
    "for treat in all_treats:\n",
    "    if all_treats[treat] <= 30:\n",
    "        shopping_list.append(treat)\n",
    "    else:\n",
    "        avoid_these.append(treat)\n",
    "        \n",
    "print(shopping_list)\n",
    "print(avoid_these)"
   ]
  }
 ],
 "metadata": {
  "kernelspec": {
   "display_name": "Python 3",
   "language": "python",
   "name": "python3"
  },
  "language_info": {
   "codemirror_mode": {
    "name": "ipython",
    "version": 3
   },
   "file_extension": ".py",
   "mimetype": "text/x-python",
   "name": "python",
   "nbconvert_exporter": "python",
   "pygments_lexer": "ipython3",
   "version": "3.6.4"
  }
 },
 "nbformat": 4,
 "nbformat_minor": 2
}
