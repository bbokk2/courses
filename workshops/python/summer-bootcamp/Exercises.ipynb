{
 "cells": [
  {
   "cell_type": "markdown",
   "metadata": {},
   "source": [
    "## Python: Intro\n",
    "\n",
    "##  Exercises\n"
   ]
  },
  {
   "cell_type": "markdown",
   "metadata": {},
   "source": [
    "---\n",
    "### Problem 1\n",
    "\n",
    "(Python: Lists)\n",
    "\n",
    "```\n",
    "a=[1,2,3] \n",
    "b = a[:]\n",
    "c = a\n",
    "b[0] = 5\n",
    "c[0] = 10\n",
    "```\n",
    "\n",
    "Print the values of a, b and c\n"
   ]
  },
  {
   "cell_type": "markdown",
   "metadata": {},
   "source": [
    "---\n",
    "### Problem 2  \n",
    "\n",
    "(Python: Lists, Modules)\n",
    "\n",
    "Create a list containing 100 random integers between 0 and 1000 (use the random module). Compute the average of the list of numbers"
   ]
  },
  {
   "cell_type": "markdown",
   "metadata": {},
   "source": [
    "---\n",
    "### Problem 3\n",
    "\n",
    "(Python: Lists)\n",
    "\n",
    "`myStr = \"The quick brown fox jumped over the lazy dog.\"`  \n",
    "\n",
    "Convert the string to a list myList, delete the word \"brown\" using `del myList[LOCATION]`, print the list"
   ]
  },
  {
   "cell_type": "markdown",
   "metadata": {},
   "source": [
    "---\n",
    "### Problem 4\n",
    "\n",
    "(Python: Lists, Modules)\n",
    "\n",
    "Create two lists (of varying lengths) containing random integers between 0 and 10.  \n",
    "Write a function that returns a list of elements common to both"
   ]
  },
  {
   "cell_type": "markdown",
   "metadata": {},
   "source": [
    "---\n",
    "### Problem 5\n",
    "\n",
    "(Python: File I/O, Lists, Conditionals, Command-line Arguments, Modules)\n",
    "\n",
    "Write a program to determine a student's final grades. \n",
    "\n",
    "__Input:__  \n",
    "Input File: `./data/student_grades.txt`  \n",
    "Calculate the average score for each student and determine the grade\n",
    "- A if score >= 90\n",
    "- B if score >=80 and <90\n",
    "- C if score >= 70 and <80\n",
    "- D if score >= 60 and <70\n",
    "- F is score <60\n",
    "\n",
    "__Output:__  \n",
    "Output the results in a tab-delimited file (including the header)  \n",
    "Example Output: \n",
    "```\n",
    "Name  FinalScore  FinalGrade\n",
    "Stu1  95          A\n",
    "Stu2  80          B\n",
    "...\n",
    "```"
   ]
  },
  {
   "cell_type": "markdown",
   "metadata": {},
   "source": [
    "---\n",
    "### Problem 6\n",
    "*Skip???*  \n",
    "(Python: File I/O, Lists, Conditionals, Functions, Modules, Command-line Arguments)\n",
    "\n",
    "Write a program to read a FASTA sequence file and calculate below matrics for each sequence:\n",
    "- Length of sequence\n",
    "- Count of A\n",
    "- CG content \n",
    "\n",
    "__Input__  \n",
    "`./data/sequence.fasta`\n",
    "\n",
    "__Output__  \n",
    "Output the results in a tab-delimited file  \n",
    "Example Output:\n",
    "```\n",
    "Sequence  Length  Acount  GC\n",
    "Seq1      100     4       45%\n",
    "...\n",
    "```"
   ]
  },
  {
   "cell_type": "markdown",
   "metadata": {},
   "source": [
    "---\n",
    "### Problem 7\n",
    "\n",
    "(Python: File I/O, Lists, Conditionals, Modules, Command-line Arguments)\n",
    "\n",
    "Write a program to filter genes based on user-specified chromosome, start and end positions, and calculate:\n",
    "- Number of genes\n",
    "- Max FPKM value\n",
    "- Min FPKM value\n",
    "- Average FPKM value\n",
    "\n",
    "__Input__  \n",
    "`./data/genes.fpkm`  \n",
    "This is a tab-delimited file:   \n",
    "Column4: gene ID  \n",
    "Column7: gene location (chr:start-end)  \n",
    "Column11: FPKM value  \n",
    "\n",
    "__USAGE__  \n",
    "`python filterGeneFPKM.py -i <inFile> -c <chr> -s <start> -e <end>`"
   ]
  },
  {
   "cell_type": "markdown",
   "metadata": {},
   "source": [
    "---\n",
    "### Problem 8\n",
    "*Skip???*  \n",
    "(Python: File I/O, Lists, Dictionary, Loops, Modules, Command-line Arguments)\n",
    "\n",
    "Write a program to transform the _wide_-format data to _long_-format\n",
    "\n",
    "__Input__  \n",
    "```\n",
    "ID    lastName    firstName    Bonus  \n",
    "1     Doe         John         8000  \n",
    "2     Smith       Jane         4000  \n",
    "3     Beck        Sam          1000  \n",
    "```\n",
    "File: `./data/wide_data.txt`\n",
    "\n",
    "\n",
    "__Output__  \n",
    "```\n",
    "ID    Field      Value  \n",
    "1     lastName   Doe  \n",
    "1     firstName  John  \n",
    "1     Bonus      8000  \n",
    "2     lastName   Smith  \n",
    "2     firstName  Jane  \n",
    "2     Bonus      4000  \n",
    "3     lastName   Beck  \n",
    "3     firstName  Sam  \n",
    "3     Bonus      1000   \n",
    "```"
   ]
  },
  {
   "cell_type": "markdown",
   "metadata": {},
   "source": [
    "---\n",
    "### Problem 9\n",
    "\n",
    "(Python: File I/O, Lists, Dictionary, Loops, Modules, Command-line Arguments)\n",
    "\n",
    "Write a program to reverse complement nucleotide sequences\n",
    "\n",
    "__Input__  \n",
    "`./data/sequence.fasta`\n",
    "\n",
    "Example:  \n",
    "mySeq = \"GACTGACTGACT\"  \n",
    "mySeq_rc = \"AGTCAGTCAGTC\""
   ]
  },
  {
   "cell_type": "markdown",
   "metadata": {},
   "source": [
    "---\n",
    "### Problem 10\n",
    "\n",
    "(Python: File I/O, Lists, Dictionary, Loops, Modules, Command-line Arguments)\n",
    "\n",
    "Write a program to convert nucleotide sequence to protein sequence \n",
    "\n",
    "__Input__  \n",
    "\n",
    "Codon to Amino-Acid mapping: `./data/codons.txt`  \n",
    "Nucleotide sequences: `./data/sequence.fasta`\n",
    "\n",
    "__Output__  \n",
    "Protein sequences in FASTA format"
   ]
  }
 ],
 "metadata": {
  "kernelspec": {
   "display_name": "Python 3",
   "language": "python",
   "name": "python3"
  },
  "language_info": {
   "codemirror_mode": {
    "name": "ipython",
    "version": 3
   },
   "file_extension": ".py",
   "mimetype": "text/x-python",
   "name": "python",
   "nbconvert_exporter": "python",
   "pygments_lexer": "ipython3",
   "version": "3.5.5"
  }
 },
 "nbformat": 4,
 "nbformat_minor": 2
}
