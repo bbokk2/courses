{
 "cells": [
  {
   "cell_type": "markdown",
   "metadata": {},
   "source": [
    "<img src=\"images/python-logo-master.png\" style=\"width:25%;height:25%\"></img>\n",
    "# Introduction to Python\n",
    "## Part II\n",
    "\n",
    ">**Hardik I. Parikh, PhD**  \n",
    ">**School of Medicine Research Computing**  \n",
    ">**University of Virginia**  \n",
    ">**08/08/2018**  \n",
    ">hiparikh@virginia.edu\n",
    "\n",
    "---\n",
    "\n",
    "## Python: Functions  \n",
    "\n",
    "Functions are an essential part of python programming:\n",
    "\n",
    "- provides modularity\n",
    "- readable code\n",
    "- reusable code\n"
   ]
  },
  {
   "cell_type": "markdown",
   "metadata": {},
   "source": [
    "### Syntax\n",
    "\n",
    "A function is defined using the keyword `def`,  followed by the function name and paranthesis, and ends with a colon.  \n",
    "  Input parameters should be placed within the paranthesis   \n",
    "  The function body is indented!  \n",
    "  The first statement of the body is the optional (but highly recommended) \"docstring\" - the help statement  \n",
    "  This is followed by the code block to do something meaningful  \n",
    "  The last statement is the \"return\" statement (optional), which passes an expression back to the caller and exits the function."
   ]
  },
  {
   "cell_type": "code",
   "execution_count": null,
   "metadata": {},
   "outputs": [],
   "source": [
    "# user-defined function\n",
    "def myFunc(parameters):\n",
    "    \"docstring\"\n",
    "    do_something \n",
    "    return expression\n",
    "\n",
    "# call the function\n",
    "# myFunc(parameters)"
   ]
  },
  {
   "cell_type": "markdown",
   "metadata": {},
   "source": [
    "#### My first function"
   ]
  },
  {
   "cell_type": "code",
   "execution_count": null,
   "metadata": {},
   "outputs": [],
   "source": [
    "# define the function\n",
    "def hello(name):\n",
    "    '''\n",
    "    This function prints the name when called\n",
    "    '''\n",
    "    print(\"Hello \", name)\n",
    "    "
   ]
  },
  {
   "cell_type": "code",
   "execution_count": null,
   "metadata": {},
   "outputs": [],
   "source": [
    "# call the function    \n",
    "hello(\"Hardik\")\n"
   ]
  },
  {
   "cell_type": "code",
   "execution_count": null,
   "metadata": {},
   "outputs": [],
   "source": [
    "# print help for the function\n",
    "help(hello)"
   ]
  },
  {
   "cell_type": "markdown",
   "metadata": {},
   "source": [
    "#### Function with `return` statement"
   ]
  },
  {
   "cell_type": "code",
   "execution_count": null,
   "metadata": {},
   "outputs": [],
   "source": [
    "def myFunc0(string):\n",
    "    '''\n",
    "    This function returns the length of the string\n",
    "    '''\n",
    "    length = len(string)\n",
    "    return length\n",
    "\n",
    "string_len = myFunc0(\"ACGTGCAGTGCAGTGCA\")\n",
    "print(\"My nucleotide sequence is %s bases long.\" % string_len)"
   ]
  },
  {
   "cell_type": "code",
   "execution_count": null,
   "metadata": {},
   "outputs": [],
   "source": [
    "def myFunc1(x):\n",
    "    '''\n",
    "    This function returns the square of x\n",
    "    '''\n",
    "    return x**2\n",
    "\n",
    "myFunc1(4)\n",
    "myFunc1(14)"
   ]
  },
  {
   "cell_type": "markdown",
   "metadata": {},
   "source": [
    "#### Cannot have more than one `return` statement"
   ]
  },
  {
   "cell_type": "code",
   "execution_count": null,
   "metadata": {},
   "outputs": [],
   "source": [
    "def myFunc2(x):\n",
    "    return x**2\n",
    "    return x**3\n",
    "\n",
    "myFunc2(3)"
   ]
  },
  {
   "cell_type": "code",
   "execution_count": null,
   "metadata": {},
   "outputs": [],
   "source": [
    "def myFunc3(x):\n",
    "    x2 = x**2\n",
    "    x3 = x**3\n",
    "    return (x2,x3)\n",
    "\n",
    "(x2,x3) = myFunc3(3)\n",
    "print(x2)\n",
    "print(x3)"
   ]
  },
  {
   "cell_type": "markdown",
   "metadata": {},
   "source": [
    "#### Order of parameters matter"
   ]
  },
  {
   "cell_type": "code",
   "execution_count": null,
   "metadata": {},
   "outputs": [],
   "source": [
    "def myFunc4(x,y):\n",
    "    print(\"x = %s\" % x)\n",
    "    print(\"y = %s\" % y)\n",
    "    \n",
    "myFunc4(3,4)\n",
    "myFunc4(4,3)\n",
    "myFunc4(y=3, x=4)"
   ]
  },
  {
   "cell_type": "markdown",
   "metadata": {},
   "source": [
    "#### Default arguments"
   ]
  },
  {
   "cell_type": "code",
   "execution_count": null,
   "metadata": {},
   "outputs": [],
   "source": [
    "def myFunc5(x, y = 3, debug=True):\n",
    "    if debug:\n",
    "        print(\"Calculating %s to the power of %s:\" % (x,y))\n",
    "    return x**y\n",
    "\n",
    "myFunc5(3,2)\n",
    "myFunc5(3, debug=False)\n",
    "myFunc5(y=2,debug=False, x=5)\n",
    "\n"
   ]
  },
  {
   "cell_type": "markdown",
   "metadata": {},
   "source": [
    "#### Variable-length arguments"
   ]
  },
  {
   "cell_type": "code",
   "execution_count": null,
   "metadata": {},
   "outputs": [],
   "source": [
    "def myFunc6(x, *args):\n",
    "    '''\n",
    "    This function add all the arguments\n",
    "    '''\n",
    "    total = x\n",
    "    for arg in args:\n",
    "        total += arg\n",
    "    return total\n",
    "        \n",
    "myFunc6(10, 20)\n",
    "myFunc6(10, 40, 50, 60)"
   ]
  },
  {
   "cell_type": "markdown",
   "metadata": {},
   "source": [
    "#### Scope of variable"
   ]
  },
  {
   "cell_type": "code",
   "execution_count": null,
   "metadata": {
    "scrolled": true
   },
   "outputs": [],
   "source": [
    "xy = 0  #global variable\n",
    "\n",
    "# Function definition is here\n",
    "def mult( x, y ):\n",
    "    \"Multiply both arguments and return them\"\n",
    "    xy = x * y  # Here total is local variable.\n",
    "    print(\"local variable product : %s\" % xy)\n",
    "    return xy\n",
    "\n",
    "# Now you can call sum function\n",
    "mult( 12, 15 )\n",
    "print(\"global variable product : %s\" % xy)"
   ]
  },
  {
   "cell_type": "markdown",
   "metadata": {},
   "source": [
    "#### Anonymous functions\n",
    "\n",
    "Lambda functions\n",
    "\n",
    "- declared using the `lambda` keyword\n",
    "- can take multiple arguments, but returns _one_ expression\n",
    "- have their own namespace - _i.e._ can only access variables in parameter list, and global variables"
   ]
  },
  {
   "cell_type": "code",
   "execution_count": null,
   "metadata": {},
   "outputs": [],
   "source": [
    "# Syntax \n",
    "# lambda [arg1, arg2 ... argn ]:expression\n",
    "\n",
    "# Example \n",
    "myFunc7 = lambda x,y: x+y \n",
    "\n",
    "myFunc7(3,5)"
   ]
  },
  {
   "cell_type": "markdown",
   "metadata": {},
   "source": [
    "#### Let's do something useful  \n",
    "  \n",
    "#### Caculate GC content of given sequence"
   ]
  },
  {
   "cell_type": "code",
   "execution_count": null,
   "metadata": {},
   "outputs": [],
   "source": [
    "def GCcontent(seq):\n",
    "    G_count = seq.count(\"G\")\n",
    "    C_count = seq.count(\"C\")\n",
    "    gc = ((G_count + C_count) / len(seq)) * 100.0\n",
    "    return gc\n",
    "\n",
    "gc = GCcontent(\"AGCTAGCTAGCTAGCTACGTCAGTCAGGGCCCC\")\n",
    "print(\"%.2f\" % gc)"
   ]
  },
  {
   "cell_type": "markdown",
   "metadata": {},
   "source": [
    "---"
   ]
  },
  {
   "cell_type": "markdown",
   "metadata": {},
   "source": [
    "## Python: Modules\n",
    "\n",
    "Modules are Python .py files containing functions, classes (and variables)\n",
    "\n",
    "By _importing_ a module, all contained functions and classes become available to existing program"
   ]
  },
  {
   "cell_type": "markdown",
   "metadata": {},
   "source": [
    "#### The _import_ statement"
   ]
  },
  {
   "cell_type": "code",
   "execution_count": null,
   "metadata": {},
   "outputs": [],
   "source": [
    "# import modules as-is\n",
    "import math\n",
    "import numpy\n",
    "\n",
    "math.sqrt(16)"
   ]
  },
  {
   "cell_type": "code",
   "execution_count": null,
   "metadata": {},
   "outputs": [],
   "source": [
    "# use alias\n",
    "import math as m\n",
    "import numpy as np\n",
    "\n",
    "m.sqrt(16)"
   ]
  },
  {
   "cell_type": "code",
   "execution_count": null,
   "metadata": {},
   "outputs": [],
   "source": [
    "# import specific functions \n",
    "from math import sqrt\n",
    "\n",
    "sqrt(16)"
   ]
  },
  {
   "cell_type": "markdown",
   "metadata": {},
   "source": [
    "### Location of modules\n",
    "\n",
    "When importing modules, the interpreter searches for them in:\n",
    "\n",
    "- current directory\n",
    "- global shell variable: PYTHONPATH\n",
    "- lastly, default PATH: `/usr/local/lib/python` (typical UNIX default)"
   ]
  },
  {
   "cell_type": "code",
   "execution_count": null,
   "metadata": {},
   "outputs": [],
   "source": [
    "import numpy as np\n",
    "np.__version__\n",
    "np.__file__"
   ]
  },
  {
   "cell_type": "markdown",
   "metadata": {},
   "source": [
    "#### The dir() function\n",
    "\n",
    "Returns a sorted list of all modules, variables and functions that are defined within the module"
   ]
  },
  {
   "cell_type": "code",
   "execution_count": null,
   "metadata": {},
   "outputs": [],
   "source": [
    "dir(np)"
   ]
  },
  {
   "cell_type": "code",
   "execution_count": null,
   "metadata": {},
   "outputs": [],
   "source": [
    "help(np.linspace)"
   ]
  },
  {
   "cell_type": "markdown",
   "metadata": {},
   "source": [
    "---  \n",
    "\n",
    "## Python: File IO "
   ]
  },
  {
   "cell_type": "code",
   "execution_count": null,
   "metadata": {},
   "outputs": [],
   "source": [
    "# Reading data from a file\n",
    "\n",
    "# Method 1\n",
    "fh = open(\"./data/codons.txt\",\"r\")   # opening the file for reading (\"r\")\n",
    "for line in fh:\n",
    "    print(line)\n",
    "fh.close()                     # closing the file, necessary if you open using the file handle\n",
    "\n",
    "\n",
    "# Method 2\n",
    "with open(\"./data/codons.txt\",\"r\") as f2:  # using \"with\", the close function is not necessary\n",
    "    for line in f2:\n",
    "        print(line)"
   ]
  },
  {
   "cell_type": "code",
   "execution_count": null,
   "metadata": {},
   "outputs": [],
   "source": [
    "# Writing data to files\n",
    "\n",
    "with open(\"./data/fileio_out.txt\", \"a\") as ofh:\n",
    "    ofh.write(\"This is line 1.\\n\")\n",
    "    ofh.write(\"This is line 2.\\n\")\n",
    "    ofh.write(\"This is line 3.\\n\")"
   ]
  }
 ],
 "metadata": {
  "kernelspec": {
   "display_name": "Python 3",
   "language": "python",
   "name": "python3"
  },
  "language_info": {
   "codemirror_mode": {
    "name": "ipython",
    "version": 3
   },
   "file_extension": ".py",
   "mimetype": "text/x-python",
   "name": "python",
   "nbconvert_exporter": "python",
   "pygments_lexer": "ipython3",
   "version": "3.5.5"
  }
 },
 "nbformat": 4,
 "nbformat_minor": 2
}
