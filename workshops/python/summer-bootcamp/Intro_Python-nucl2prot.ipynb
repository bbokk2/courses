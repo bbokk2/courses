{
 "cells": [
  {
   "cell_type": "markdown",
   "metadata": {},
   "source": [
    "## Problem\n",
    "\n",
    "Write a program to convert nucleotide sequence to protein sequence\n",
    "\n",
    "Input\n",
    "\n",
    "Codon to Amino-Acid mapping: `./data/codons.txt`    \n",
    "Nucleotide sequences: `./data/sequence.fasta`  \n",
    "\n",
    "Output\n",
    "Protein sequences in FASTA format\n",
    "\n",
    "---\n",
    "\n",
    "Nucleotide FASTA: `./data/sequence.fasta`  \n",
    "\\>seq1  \n",
    "ATGTCACACCGC  \n",
    "\\>seq2  \n",
    "ATGGCCAATACAAAC  \n",
    "...  \n",
    "... \n",
    "\n",
    "Protein FASTA:  \n",
    "\\>seq1  \n",
    "MSHR  \n",
    "\\>seq2  \n",
    "MANTN  \n",
    "...  \n",
    "...\n",
    "\n",
    "---"
   ]
  },
  {
   "cell_type": "markdown",
   "metadata": {},
   "source": [
    "### Step1: Read codon mapping and store the information "
   ]
  },
  {
   "cell_type": "code",
   "execution_count": null,
   "metadata": {},
   "outputs": [],
   "source": [
    "# open a file handle\n",
    "mfh = open(\"./data/codons.txt\", \"r\")\n",
    "\n",
    "codonDict = dict()  # intialize empty dictionary\n",
    "\n",
    "mfh.readline()  # read the header line, ignore it\n",
    "\n",
    "# iterate over each line and save the information\n",
    "for line in mfh:\n",
    "    line = line.strip()  #remove whitespaces \n",
    "    lineList = line.split('\\t')  #split the line into a list\n",
    "    aa = lineList[1]  # save SLC to aa \n",
    "    aaList = lineList[2].split(\",\")  #split the codons into list\n",
    "    # iterate over each codon\n",
    "    for codon in aaList:\n",
    "        codonDict[codon] = aa\n",
    "    \n",
    "mfh.close()\n",
    "\n",
    "print(codonDict)"
   ]
  },
  {
   "cell_type": "markdown",
   "metadata": {},
   "source": [
    "### Step2: User-defined function to translate "
   ]
  },
  {
   "cell_type": "code",
   "execution_count": null,
   "metadata": {},
   "outputs": [],
   "source": [
    "seq = \"ATGACTGCATGTACGT\"\n",
    "\n",
    "def nuc2prot(seq):\n",
    "\n",
    "    prot_seq = \"\"\n",
    "    \n",
    "    for i in range(0, len(seq)-2, 3):\n",
    "        seqCodon = seq[i:i+3]\n",
    "        \n",
    "        # handle STOP codons\n",
    "        if seqCodon in [\"TAA\", \"TAG\", \"TGA\"]:\n",
    "            break\n",
    "        else:\n",
    "            prot_seq += codonDict[seqCodon]\n",
    "    \n",
    "    # return translated protein sequence to the caller\n",
    "    return(prot_seq)\n",
    "\n",
    "nuc2prot(seq)"
   ]
  },
  {
   "cell_type": "markdown",
   "metadata": {},
   "source": [
    "### Step3: Read the nucleotide FASTA, translate to protein"
   ]
  },
  {
   "cell_type": "code",
   "execution_count": null,
   "metadata": {},
   "outputs": [],
   "source": [
    "# open file handles\n",
    "ifh = open(\"./data/sequence.fasta\", \"r\")\n",
    "ofh = open(\"./data/prot_seq.fasta\", \"w\")\n",
    "\n",
    "# read the nucl fasta\n",
    "for line in ifh:\n",
    "    line = line.strip()\n",
    "    \n",
    "    # capture seq identifier\n",
    "    if line.startswith(\">\"):\n",
    "        print(line, file=ofh)\n",
    "    else:\n",
    "        prot_seq = nuc2prot(line)\n",
    "        print(prot_seq, file=ofh)\n",
    "    \n",
    "# close file handles\n",
    "ifh.close()\n",
    "ofh.close()"
   ]
  },
  {
   "cell_type": "markdown",
   "metadata": {},
   "source": [
    "### BioPython Solution\n",
    "\n",
    "[BioPython](https://biopython.org/) is a set of freely available tools for biological computation written in Python.\n",
    "\n",
    "Install it by typing the following in your terminal:  \n",
    "`pip install biopython`"
   ]
  },
  {
   "cell_type": "code",
   "execution_count": null,
   "metadata": {},
   "outputs": [],
   "source": [
    "from Bio import SeqIO\n",
    "from Bio.Seq import Seq\n",
    "\n",
    "# my files\n",
    "nuclFile = \"./data/sequence.fasta\"\n",
    "protFile = \"./data/prot_seq.fasta\"\n",
    "\n",
    "# create empty list of protein records\n",
    "protRecList = []\n",
    "\n",
    "# use SeqIO to iterate over every sequence\n",
    "# use Seq class to translate \n",
    "for rec in SeqIO.parse(nuclFile, \"fasta\"):\n",
    "    prot_rec = rec.translate(to_stop=True)\n",
    "    prot_rec.id = rec.id\n",
    "    protRecList.append(prot_rec)\n",
    "\n",
    "# Write the protein records\n",
    "SeqIO.write(protRecList, protFile, \"fasta\")"
   ]
  }
 ],
 "metadata": {
  "kernelspec": {
   "display_name": "Python 3",
   "language": "python",
   "name": "python3"
  },
  "language_info": {
   "codemirror_mode": {
    "name": "ipython",
    "version": 3
   },
   "file_extension": ".py",
   "mimetype": "text/x-python",
   "name": "python",
   "nbconvert_exporter": "python",
   "pygments_lexer": "ipython3",
   "version": "3.5.5"
  }
 },
 "nbformat": 4,
 "nbformat_minor": 2
}
